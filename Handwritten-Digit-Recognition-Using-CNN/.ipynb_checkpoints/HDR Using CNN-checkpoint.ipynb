{
 "cells": [
  {
   "cell_type": "markdown",
   "metadata": {},
   "source": [
    "## 1. Collect the images"
   ]
  },
  {
   "cell_type": "code",
   "execution_count": 37,
   "metadata": {},
   "outputs": [
    {
     "name": "stdout",
     "output_type": "stream",
     "text": [
      "saved.... 0\n",
      "clear screen now and redraw again...\n",
      "saved.... 1\n",
      "clear screen now and redraw again...\n",
      "saved.... 2\n",
      "clear screen now and redraw again...\n",
      "saved.... 3\n",
      "clear screen now and redraw again...\n",
      "saved.... 4\n",
      "clear screen now and redraw again...\n",
      "saved.... 5\n",
      "clear screen now and redraw again...\n",
      "saved.... 6\n",
      "clear screen now and redraw again...\n",
      "saved.... 7\n",
      "clear screen now and redraw again...\n",
      "saved.... 8\n",
      "clear screen now and redraw again...\n",
      "saved.... 9\n",
      "clear screen now and redraw again...\n",
      "finish of image captured process\n"
     ]
    }
   ],
   "source": [
    "def screen_capture():\n",
    "    import pyscreenshot as ImageGrab #pip install pyscreenshot\n",
    "    import time\n",
    "\n",
    "    #images_folder = \"captured_images/9/\"\n",
    "    images_folder = \"new_images/\"\n",
    "\n",
    "    for i in range(10):\n",
    "        time.sleep(10)\n",
    "        im = ImageGrab.grab(bbox=(60, 170, 400, 550)) # X1,Y1,X2,Y2\n",
    "        print (\"saved....\",i)\n",
    "        im.save(images_folder+str(i)+'.png')\n",
    "        print (\"clear screen now and redraw again...\")\n",
    "    print(\"finish of image captured process\")\n",
    "screen_capture()"
   ]
  },
  {
   "cell_type": "markdown",
   "metadata": {},
   "source": [
    " ## 2. Create data with label"
   ]
  },
  {
   "cell_type": "code",
   "execution_count": 17,
   "metadata": {},
   "outputs": [],
   "source": [
    "import numpy as np\n",
    "\n",
    "def create_label(image_name):\n",
    "    \"\"\" Create an one-hot encoded vector from image name \"\"\" \n",
    "    if image_name == '0':  \n",
    "        return np.array([1,0,0,0,0,0,0,0,0,0])\n",
    "    elif image_name == '1':\n",
    "        return np.array([0,1,0,0,0,0,0,0,0,0])\n",
    "    elif image_name == '2':\n",
    "        return np.array([0,0,1,0,0,0,0,0,0,0])\n",
    "    elif image_name == '3':\n",
    "        return np.array([0,0,0,1,0,0,0,0,0,0])\n",
    "    elif image_name == '4':\n",
    "        return np.array([0,0,0,0,1,0,0,0,0,0])\n",
    "    elif image_name == '5':\n",
    "        return np.array([0,0,0,0,0,1,0,0,0,0])\n",
    "    elif image_name == '6':\n",
    "        return np.array([0,0,0,0,0,0,1,0,0,0])\n",
    "    elif image_name == '7':\n",
    "        return np.array([0,0,0,0,0,0,0,1,0,0])\n",
    "    elif image_name == '8':\n",
    "        return np.array([0,0,0,0,0,0,0,0,1,0])\n",
    "    elif image_name == '9':\n",
    "        return np.array([0,0,0,0,0,0,0,0,0,1])\n",
    "\n",
    "import os\n",
    "import cv2\n",
    "from random import shuffle\n",
    "from tqdm import tqdm\n",
    "\n",
    "def create_data():\n",
    "    data = []\n",
    "    for folder in tqdm(os.listdir(\"captured_images\")):\n",
    "        for img in os.listdir(\"captured_images/\"+folder):\n",
    "            path = os.path.join(\"captured_images\",folder, img)\n",
    "            img_data = cv2.imread(path, cv2.IMREAD_GRAYSCALE)\n",
    "            try:\n",
    "                img_data = cv2.resize(img_data, (28,28))\n",
    "            except cv2.error as e:\n",
    "                continue\n",
    "            data.append([np.array(img_data), create_label(folder)])\n",
    "    shuffle(data)\n",
    "    return data"
   ]
  },
  {
   "cell_type": "code",
   "execution_count": 20,
   "metadata": {},
   "outputs": [
    {
     "name": "stderr",
     "output_type": "stream",
     "text": [
      "100%|██████████████████████████████████████████████████████████████████████████████████| 10/10 [00:00<00:00, 75.06it/s]\n"
     ]
    }
   ],
   "source": [
    "data = create_data()"
   ]
  },
  {
   "cell_type": "markdown",
   "metadata": {},
   "source": [
    "# 3. Dividing data into training and testing part"
   ]
  },
  {
   "cell_type": "code",
   "execution_count": 21,
   "metadata": {},
   "outputs": [],
   "source": [
    "train = data[:40]\n",
    "test = data[40:]\n",
    "X_train = np.array([i[0] for i in train]).reshape(-1, 28,28, 1)\n",
    "y_train = [i[1] for i in train]\n",
    "X_test = np.array([i[0] for i in test]).reshape(-1, 28,28, 1)\n",
    "y_test = [i[1] for i in test]"
   ]
  },
  {
   "cell_type": "markdown",
   "metadata": {},
   "source": [
    "## 4. Building the model"
   ]
  },
  {
   "cell_type": "code",
   "execution_count": 33,
   "metadata": {},
   "outputs": [],
   "source": [
    "import warnings\n",
    "warnings.filterwarnings('ignore')\n",
    "\n",
    "import tensorflow as tf\n",
    "from tensorflow.python.framework import ops\n",
    "ops.reset_default_graph()\n",
    "import tflearn\n",
    "from tflearn.layers.conv import conv_2d, max_pool_2d\n",
    "from tflearn.layers.core import input_data, dropout, fully_connected\n",
    "from tflearn.layers.estimator import regression"
   ]
  },
  {
   "cell_type": "code",
   "execution_count": 34,
   "metadata": {},
   "outputs": [],
   "source": [
    "## Steps of Convolutional neural network:\n",
    "# 1. Convolution layers\n",
    "# 2. Normalization\n",
    "# 3. Pooling\n",
    "# 4. Fully connected"
   ]
  },
  {
   "cell_type": "code",
   "execution_count": 45,
   "metadata": {},
   "outputs": [
    {
     "name": "stdout",
     "output_type": "stream",
     "text": [
      "---------------------------------\n",
      "Run id: PFIA13\n",
      "Log directory: /tmp/tflearn_logs/\n",
      "INFO:tensorflow:Summary name Accuracy/ (raw) is illegal; using Accuracy/__raw_ instead.\n",
      "---------------------------------\n",
      "Training samples: 40\n",
      "Validation samples: 10\n",
      "--\n",
      "Training Step: 1  | time: 1.444s\n",
      "| Adam | epoch: 001 | loss: 0.00000 - acc: 0.0000 | val_loss: 2.43906 - val_acc: 0.0000 -- iter: 40/40\n",
      "--\n",
      "Training Step: 2  | total loss: \u001b[1m\u001b[32m2.07360\u001b[0m\u001b[0m | time: 1.179s\n",
      "| Adam | epoch: 002 | loss: 2.07360 - acc: 0.1125 | val_loss: 2.54901 - val_acc: 0.0000 -- iter: 40/40\n",
      "--\n",
      "Training Step: 3  | total loss: \u001b[1m\u001b[32m2.25299\u001b[0m\u001b[0m | time: 1.191s\n",
      "| Adam | epoch: 003 | loss: 2.25299 - acc: 0.1636 | val_loss: 2.65818 - val_acc: 0.0000 -- iter: 40/40\n",
      "--\n",
      "Training Step: 4  | total loss: \u001b[1m\u001b[32m2.27710\u001b[0m\u001b[0m | time: 1.187s\n",
      "| Adam | epoch: 004 | loss: 2.27710 - acc: 0.1347 | val_loss: 2.60033 - val_acc: 0.0000 -- iter: 40/40\n",
      "--\n",
      "Training Step: 5  | total loss: \u001b[1m\u001b[32m2.27427\u001b[0m\u001b[0m | time: 1.175s\n",
      "| Adam | epoch: 005 | loss: 2.27427 - acc: 0.1453 | val_loss: 2.55783 - val_acc: 0.0000 -- iter: 40/40\n",
      "--\n",
      "Training Step: 6  | total loss: \u001b[1m\u001b[32m2.28692\u001b[0m\u001b[0m | time: 1.182s\n",
      "| Adam | epoch: 006 | loss: 2.28692 - acc: 0.1322 | val_loss: 2.59923 - val_acc: 0.0000 -- iter: 40/40\n",
      "--\n",
      "Training Step: 7  | total loss: \u001b[1m\u001b[32m2.25605\u001b[0m\u001b[0m | time: 1.174s\n",
      "| Adam | epoch: 007 | loss: 2.25605 - acc: 0.2179 | val_loss: 2.65058 - val_acc: 0.0000 -- iter: 40/40\n",
      "--\n",
      "Training Step: 8  | total loss: \u001b[1m\u001b[32m2.22833\u001b[0m\u001b[0m | time: 1.143s\n",
      "| Adam | epoch: 008 | loss: 2.22833 - acc: 0.1656 | val_loss: 2.65192 - val_acc: 0.0000 -- iter: 40/40\n",
      "--\n",
      "Training Step: 9  | total loss: \u001b[1m\u001b[32m2.25977\u001b[0m\u001b[0m | time: 1.201s\n",
      "| Adam | epoch: 009 | loss: 2.25977 - acc: 0.1309 | val_loss: 2.64085 - val_acc: 0.0000 -- iter: 40/40\n",
      "--\n",
      "Training Step: 10  | total loss: \u001b[1m\u001b[32m2.26256\u001b[0m\u001b[0m | time: 1.247s\n",
      "| Adam | epoch: 010 | loss: 2.26256 - acc: 0.1404 | val_loss: 2.67965 - val_acc: 0.0000 -- iter: 40/40\n",
      "--\n",
      "Training Step: 11  | total loss: \u001b[1m\u001b[32m2.19702\u001b[0m\u001b[0m | time: 1.200s\n",
      "| Adam | epoch: 011 | loss: 2.19702 - acc: 0.1805 | val_loss: 2.72458 - val_acc: 0.0000 -- iter: 40/40\n",
      "--\n",
      "Training Step: 12  | total loss: \u001b[1m\u001b[32m2.11593\u001b[0m\u001b[0m | time: 1.184s\n",
      "| Adam | epoch: 012 | loss: 2.11593 - acc: 0.2230 | val_loss: 2.59585 - val_acc: 0.0000 -- iter: 40/40\n",
      "--\n"
     ]
    }
   ],
   "source": [
    "ops.reset_default_graph()\n",
    "convnet = input_data(shape=[28,28, 1], name='input') \n",
    "convnet = conv_2d(convnet, 32, 5, activation='relu')\n",
    "convnet = max_pool_2d(convnet, 5)\n",
    "convnet = conv_2d(convnet, 64, 5, activation='relu')\n",
    "convnet = max_pool_2d(convnet, 5)\n",
    "convnet = conv_2d(convnet, 128, 5, activation='relu')\n",
    "convnet = max_pool_2d(convnet, 5)\n",
    "convnet = conv_2d(convnet, 64, 5, activation='relu')\n",
    "convnet = max_pool_2d(convnet, 5)\n",
    "convnet = conv_2d(convnet, 32, 5, activation='relu')\n",
    "convnet = max_pool_2d(convnet, 5)\n",
    "convnet = fully_connected(convnet, 1024, activation='relu') #to know the parameter and all press shift tab\n",
    "convnet = dropout(convnet, 0.8) #prevent a model from overfitting\n",
    "convnet = fully_connected(convnet, 10, activation='softmax')\n",
    "convnet = regression(convnet, optimizer='adam', learning_rate=0.001, loss='categorical_crossentropy', name='targets')  \n",
    "model = tflearn.DNN(convnet, tensorboard_verbose=1)  \n",
    "model.fit({'input': X_train}, {'targets': y_train}, n_epoch=12,\n",
    "          validation_set=({'input': X_test}, {'targets': y_test}),\n",
    "          show_metric=True)"
   ]
  },
  {
   "cell_type": "markdown",
   "metadata": {},
   "source": [
    "## 5. Let's predict and display using matplotlib\n"
   ]
  },
  {
   "cell_type": "code",
   "execution_count": 46,
   "metadata": {},
   "outputs": [],
   "source": [
    "def create_test_data():\n",
    "    data = []\n",
    "    for img in tqdm(os.listdir(\"new_images\")):\n",
    "        path = os.path.join(\"new_images\", img)\n",
    "        img_num = img.split('.')[0] \n",
    "        img_data = cv2.imread(path, cv2.IMREAD_GRAYSCALE)\n",
    "        try:\n",
    "            img_data = cv2.resize(img_data, (28,28))\n",
    "        except cv2.error as e:\n",
    "            continue\n",
    "        data.append([np.array(img_data), img_num])\n",
    "\n",
    "    shuffle(data)\n",
    "    return data"
   ]
  },
  {
   "cell_type": "code",
   "execution_count": 47,
   "metadata": {},
   "outputs": [
    {
     "name": "stderr",
     "output_type": "stream",
     "text": [
      "100%|█████████████████████████████████████████████████████████████████████████████████| 10/10 [00:00<00:00, 395.82it/s]\n"
     ]
    }
   ],
   "source": [
    "test_data = create_test_data()"
   ]
  },
  {
   "cell_type": "code",
   "execution_count": 48,
   "metadata": {},
   "outputs": [
    {
     "data": {
      "image/png": "[encoded data removed]",
      "text/plain": [
       "<Figure size 720x720 with 10 Axes>"
      ]
     },
     "metadata": {
      "needs_background": "light"
     },
     "output_type": "display_data"
    }
   ],
   "source": [
    "import matplotlib.pyplot as plt\n",
    "\n",
    "fig = plt.figure(figsize=(10,10))\n",
    "for num, data in enumerate(test_data[:10]):\n",
    "    img_data = data[0]\n",
    "    y = fig.add_subplot(5,5, num + 1)\n",
    "    orig = img_data\n",
    "    data = img_data.reshape(28,28, 1)\n",
    "    model_out = model.predict([data])\n",
    "    str_label = \"Prediction: \" + str(np.argmax(model_out))\n",
    "\n",
    "    y.imshow(orig, cmap='gray')\n",
    "    plt.title(str_label)\n",
    "    y.axes.get_xaxis().set_visible(False)\n",
    "    y.axes.get_yaxis().set_visible(False)\n",
    "plt.show()"
   ]
  },
  {
   "cell_type": "code",
   "execution_count": null,
   "metadata": {},
   "outputs": [],
   "source": []
  }
 ],
 "metadata": {
  "kernelspec": {
   "display_name": "Python 3",
   "language": "python",
   "name": "python3"
  },
  "language_info": {
   "codemirror_mode": {
    "name": "ipython",
    "version": 3
   },
   "file_extension": ".py",
   "mimetype": "text/x-python",
   "name": "python",
   "nbconvert_exporter": "python",
   "pygments_lexer": "ipython3",
   "version": "3.8.3"
  }
 },
 "nbformat": 4,
 "nbformat_minor": 4
}
